{
  "nbformat": 4,
  "nbformat_minor": 0,
  "metadata": {
    "colab": {
      "name": "Amazon_scraping.ipynb",
      "provenance": []
    },
    "kernelspec": {
      "name": "python3",
      "display_name": "Python 3"
    },
    "language_info": {
      "name": "python"
    }
  },
  "cells": [
    {
      "cell_type": "markdown",
      "source": [
        "## Scraping Amazon Using Python"
      ],
      "metadata": {
        "id": "8GOy6Vvwe1Tm"
      }
    },
    {
      "cell_type": "code",
      "source": [
        "pip install requests"
      ],
      "metadata": {
        "id": "NEeBPitisan7"
      },
      "execution_count": null,
      "outputs": []
    },
    {
      "cell_type": "code",
      "source": [
        "#import libraries\n",
        "\n",
        "from bs4 import BeautifulSoup\n",
        "import requests\n",
        "import smtplib\n",
        "import time\n",
        "import datetime"
      ],
      "metadata": {
        "id": "a0cMAW_6fEEE"
      },
      "execution_count": 2,
      "outputs": []
    },
    {
      "cell_type": "code",
      "source": [
        "#connect to wesite\n",
        "\n",
        "url = 'https://www.amazon.in/Wings-Fire-Autobiography-Abdul-Kalam/dp/8173711461/ref=sr_1_13?pf_rd_i=976389031&pf_rd_m=A1VBAL9TL5WCBF&pf_rd_p=f4064d51-c728-48a5-9159-339e2c71b1d5&pf_rd_r=N52XT2DMK7EVHN6DV4QJ&pf_rd_s=merchandised-search-1&qid=1660301398&refinements=p_n_pct-off-with-tax%3A2665400031%2Cp_n_availability%3A1318484031&s=books&sr=1-13'\n",
        "\n",
        "\n",
        "headers = {\"User-Agent\": \"Mozilla/5.0 (X11; Linux x86_64) AppleWebKit/537.36 (KHTML, like Gecko) Chrome/102.0.5005.167 Safari/537.36\"}\n",
        "\n",
        "page = requests.get(url, headers=headers)\n",
        "\n",
        "soup1 = BeautifulSoup(page.content, \"html.parser\")\n",
        "\n",
        "soup2 = BeautifulSoup(soup1.prettify(), \"html.parser\")\n",
        "\n",
        "title = soup2.find(id='productTitle').get_text()\n",
        "\n",
        "price = soup2.find(id='price').get_text()\n",
        "\n",
        "\n",
        "print(title)\n",
        "print(price)"
      ],
      "metadata": {
        "colab": {
          "base_uri": "https://localhost:8080/"
        },
        "id": "WtoTnaDsrB2Z",
        "outputId": "44157f30-8324-4231-cfca-1d2f84488f13"
      },
      "execution_count": 5,
      "outputs": [
        {
          "output_type": "stream",
          "name": "stdout",
          "text": [
            "\n",
            "     WINGS OF FIRE: AUTOBIOGRAPHY OF ABDUL KALAM\n",
            "    \n",
            "\n",
            "                          ₹285.00\n",
            "                         \n"
          ]
        }
      ]
    },
    {
      "cell_type": "code",
      "source": [
        "# Clean up the data a little bit\n",
        "\n",
        "price = price.strip()[1:]\n",
        "title = title.strip()\n",
        "\n",
        "print(title)\n",
        "print(price)"
      ],
      "metadata": {
        "colab": {
          "base_uri": "https://localhost:8080/"
        },
        "id": "fUopTf7at2qN",
        "outputId": "971f09ba-51b7-4a07-bb40-755743779b09"
      },
      "execution_count": 6,
      "outputs": [
        {
          "output_type": "stream",
          "name": "stdout",
          "text": [
            "WINGS OF FIRE: AUTOBIOGRAPHY OF ABDUL KALAM\n",
            "285.00\n"
          ]
        }
      ]
    },
    {
      "cell_type": "code",
      "source": [
        "# Create a Timestamp for your output to track when data was collected\n",
        "\n",
        "import datetime\n",
        "\n",
        "today = datetime.date.today()\n",
        "\n",
        "print(today)"
      ],
      "metadata": {
        "colab": {
          "base_uri": "https://localhost:8080/"
        },
        "id": "IHb4DLrFuJ6m",
        "outputId": "24e3e4b8-5eec-4ac4-a7bf-b0edc1e97419"
      },
      "execution_count": 7,
      "outputs": [
        {
          "output_type": "stream",
          "name": "stdout",
          "text": [
            "2022-08-12\n"
          ]
        }
      ]
    },
    {
      "cell_type": "code",
      "source": [
        "# Create CSV and write headers and data into the file\n",
        "\n",
        "import csv \n",
        "\n",
        "header = ['Title', 'Price', 'Date']\n",
        "data = [title, price, today]\n",
        "\n",
        "\n",
        "with open('AmazonWebScraperDataset.csv', 'w', newline='', encoding='UTF8') as f:\n",
        "    writer = csv.writer(f)\n",
        "    writer.writerow(header)\n",
        "    writer.writerow(data)"
      ],
      "metadata": {
        "id": "91Pn96M4uKVQ"
      },
      "execution_count": 8,
      "outputs": []
    },
    {
      "cell_type": "code",
      "source": [
        "import pandas as pd\n",
        "\n",
        "df = pd.read_csv('AmazonWebScraperDataset.csv')\n",
        "\n",
        "print(df)"
      ],
      "metadata": {
        "colab": {
          "base_uri": "https://localhost:8080/"
        },
        "id": "rdeLNc3euT7n",
        "outputId": "36798a01-dff1-4aea-d629-7ebdb3eb930b"
      },
      "execution_count": 14,
      "outputs": [
        {
          "output_type": "stream",
          "name": "stdout",
          "text": [
            "                                         Title  Price        Date\n",
            "0  WINGS OF FIRE: AUTOBIOGRAPHY OF ABDUL KALAM  285.0  2022-08-12\n",
            "1  WINGS OF FIRE: AUTOBIOGRAPHY OF ABDUL KALAM  285.0  2022-08-12\n"
          ]
        }
      ]
    },
    {
      "cell_type": "code",
      "source": [
        "#Now we are appending data to the csv\n",
        "\n",
        "with open('AmazonWebScraperDataset.csv', 'a+', newline='', encoding='UTF8') as f:\n",
        "    writer = csv.writer(f)\n",
        "    writer.writerow(data)"
      ],
      "metadata": {
        "id": "7CrOhCRquUbZ"
      },
      "execution_count": 11,
      "outputs": []
    },
    {
      "cell_type": "code",
      "source": [
        "#Combine all of the above code into one function\n",
        "\n",
        "def check_price():\n",
        "  url = 'https://www.amazon.in/Wings-Fire-Autobiography-Abdul-Kalam/dp/8173711461/ref=sr_1_13?pf_rd_i=976389031&pf_rd_m=A1VBAL9TL5WCBF&pf_rd_p=f4064d51-c728-48a5-9159-339e2c71b1d5&pf_rd_r=N52XT2DMK7EVHN6DV4QJ&pf_rd_s=merchandised-search-1&qid=1660301398&refinements=p_n_pct-off-with-tax%3A2665400031%2Cp_n_availability%3A1318484031&s=books&sr=1-13'\n",
        "\n",
        "\n",
        "  headers = {\"User-Agent\": \"Mozilla/5.0 (X11; Linux x86_64) AppleWebKit/537.36 (KHTML, like Gecko) Chrome/102.0.5005.167 Safari/537.36\"}\n",
        "\n",
        "  page = requests.get(url, headers=headers)\n",
        "\n",
        "  soup1 = BeautifulSoup(page.content, \"html.parser\")\n",
        "\n",
        "  soup2 = BeautifulSoup(soup1.prettify(), \"html.parser\")\n",
        "\n",
        "  title = soup2.find(id='productTitle').get_text()\n",
        "\n",
        "  price = soup2.find(id='price').get_text()\n",
        "\n",
        "  price = price.strip()[1:]\n",
        "  title = title.strip()\n",
        "\n",
        "  import datetime\n",
        "\n",
        "  today = datetime.date.today()\n",
        "\n",
        "  header = ['Title', 'Price', 'Date']\n",
        "  data = [title, price, today]\n",
        "\n",
        "  with open('AmazonWebScraperDataset.csv', 'a+', newline='', encoding='UTF8') as f:\n",
        "    writer = csv.writer(f)\n",
        "    writer.writerow(data)\n",
        "\n",
        "  if price<200:\n",
        "    send_mail()\n",
        "\n"
      ],
      "metadata": {
        "id": "zJ5DIDaXu2y1"
      },
      "execution_count": 13,
      "outputs": []
    },
    {
      "cell_type": "code",
      "source": [
        "while(True):\n",
        "  check_price()\n",
        "  time.sleep(86400)"
      ],
      "metadata": {
        "id": "5hs9u0kgu3Kw"
      },
      "execution_count": null,
      "outputs": []
    },
    {
      "cell_type": "code",
      "source": [
        "import pandas as pd\n",
        "\n",
        "df = pd.read_csv('AmazonWebScraperDataset.csv')\n",
        "\n",
        "print(df)"
      ],
      "metadata": {
        "colab": {
          "base_uri": "https://localhost:8080/"
        },
        "id": "aBgXMgIPu3ex",
        "outputId": "11e45d82-1ecb-4de5-caae-43edef0c2b3d"
      },
      "execution_count": 16,
      "outputs": [
        {
          "output_type": "stream",
          "name": "stdout",
          "text": [
            "                                         Title  Price        Date\n",
            "0  WINGS OF FIRE: AUTOBIOGRAPHY OF ABDUL KALAM  285.0  2022-08-12\n",
            "1  WINGS OF FIRE: AUTOBIOGRAPHY OF ABDUL KALAM  285.0  2022-08-12\n",
            "2  WINGS OF FIRE: AUTOBIOGRAPHY OF ABDUL KALAM  285.0  2022-08-12\n",
            "3  WINGS OF FIRE: AUTOBIOGRAPHY OF ABDUL KALAM  285.0  2022-08-12\n"
          ]
        }
      ]
    },
    {
      "cell_type": "code",
      "source": [
        "# If uou want to try sending yourself an email (just for fun) when a price hits below a certain level you can try it\n",
        "# out with this script\n",
        "\n",
        "def send_mail():\n",
        "    server = smtplib.SMTP_SSL('smtp.gmail.com',465)\n",
        "    server.ehlo()\n",
        "    #server.starttls()\n",
        "    server.ehlo()\n",
        "    server.login('example@gmail.com','xxxxxxxxxxxxxx')\n",
        "    \n",
        "    subject = \"The Book you want is below Rs. 200! Now is your chance to buy!\"\n",
        "    body = \"Hey, This is the moment we have been waiting for. Now is your chance to pick up the shirt of your dreams. Don't mess it up! Link here: https://www.amazon.in/Wings-Fire-Autobiography-Abdul-Kalam/dp/8173711461/ref=sr_1_13?pf_rd_i=976389031&pf_rd_m=A1VBAL9TL5WCBF&pf_rd_p=f4064d51-c728-48a5-9159-339e2c71b1d5&pf_rd_r=N52XT2DMK7EVHN6DV4QJ&pf_rd_s=merchandised-search-1&qid=1660301398&refinements=p_n_pct-off-with-tax%3A2665400031%2Cp_n_availability%3A1318484031&s=books&sr=1-13\"\n",
        "   \n",
        "    msg = f\"Subject: {subject}\\n\\n{body}\"\n",
        "    \n",
        "    server.sendmail(\n",
        "        'example@gmail.com',\n",
        "        msg\n",
        "     \n",
        "    )"
      ],
      "metadata": {
        "id": "nF3ExT61u32Q"
      },
      "execution_count": 17,
      "outputs": []
    }
  ]
}